{
  "nbformat": 4,
  "nbformat_minor": 0,
  "metadata": {
    "colab": {
      "name": "depenses.ipynb",
      "provenance": [],
      "collapsed_sections": [],
      "authorship_tag": "ABX9TyN4IoAs9WTb0I5iFcTNzV54",
      "include_colab_link": true
    },
    "kernelspec": {
      "name": "python3",
      "display_name": "Python 3"
    }
  },
  "cells": [
    {
      "cell_type": "markdown",
      "metadata": {
        "id": "view-in-github",
        "colab_type": "text"
      },
      "source": [
        "<a href=\"https://colab.research.google.com/github/micheldion/colab-dev01/blob/main/depenses.ipynb\" target=\"_parent\"><img src=\"https://colab.research.google.com/assets/colab-badge.svg\" alt=\"Open In Colab\"/></a>"
      ]
    },
    {
      "cell_type": "code",
      "metadata": {
        "id": "NWNTyKw7frf3",
        "colab": {
          "base_uri": "https://localhost:8080/"
        },
        "outputId": "46593fed-147a-4b59-8973-445e5aaad4b5"
      },
      "source": [
        "from google.colab import drive\n",
        "import pandas as pd \n",
        "import math\n",
        "import glob\n",
        "\n",
        "drive.mount('/content/gdrive')\n",
        "\n",
        "TPS = 0.05\n",
        "TVQ = 0.09975\n",
        "FISCAL_MONTH_INDEX = 4\n",
        "\n",
        "def fiscalMonthClosure(index):\n",
        "   def c(month):\n",
        "      return month -index if month > index else (12-index) + month\n",
        "   return c\n",
        "\n",
        "currentFiscalMonth = fiscalMonthClosure(FISCAL_MONTH_INDEX)\n",
        "\n",
        "def fiscalYear(date):\n",
        "  return str(date.year)+\"-\"+str(date.year+1)  if date.month > 4 else str(date.year  -1)+\"-\"+str(date.year)\n",
        "\n",
        "def round_half_up(n):\n",
        "  multiplier = 10 ** 2\n",
        "  return math.floor(n*multiplier + 0.5) / multiplier\n",
        "\n",
        "def computeTPS (subTotal):\n",
        "  return round_half_up(subTotal * TPS)\n",
        "\n",
        "def computeTVQ (subTotal):\n",
        "  return round_half_up(subTotal * TVQ)  \n",
        "\n",
        "def taxePeriod(month):\n",
        "    if   month in [11,12,1]:\n",
        "      return 1\n",
        "    elif month in [2,3,4]:\n",
        "      return 2\n",
        "    elif month in [5,6,7]:\n",
        "      return 3\n",
        "    elif month in [8,9,10]:\n",
        "      return 4\n",
        "    else:\n",
        "      raise Exception(\"Not in range \"+str(month))\n",
        "\n",
        "\n",
        "def process(glob, folder):\n",
        "  data_files = glob.glob(folder)\n",
        "  V = [i.split(\"/\")[-1].split(\".pdf\")[0] for i in data_files]\n",
        "  print(V)\n",
        "  df = pd.DataFrame(V) \n",
        "  df[['Date','SubTotal','TPS','TVQ','Desc']] = df[0].str.split(\"_\",expand=True,)\n",
        "  df.Date = pd.to_datetime(df.Date, errors=\"coerce\")\n",
        "  df.SubTotal = pd.to_numeric(df.SubTotal, errors=\"coerce\")\n",
        "  df.TPS = pd.to_numeric(df.TPS, errors=\"coerce\")\n",
        "  df.TVQ = pd.to_numeric(df.TVQ, errors=\"coerce\")\n",
        "  \n",
        "  df['Day'] =  df['Date'].dt.day\n",
        "  df['Month'] =  df['Date'].dt.month\n",
        "  \n",
        "  df['Total'] = df.SubTotal + df.TPS + df.TVQ\n",
        "  df['ComputedTPS'] = df.SubTotal.map(computeTPS)\n",
        "  df['ComputedTVQ'] = df.SubTotal.map(computeTVQ)\n",
        "  df['AssertTPS'] = (df.ComputedTPS == df.TPS) | (df.TPS == 0)\n",
        "  df['AssertTVQ'] = (df.ComputedTVQ == df.TVQ) | (df.TVQ == 0)\n",
        "  df['OK'] = (df.AssertTPS) & (df.AssertTVQ)\n",
        "  df[\"FiscalMonth\"] = df.Month.map(currentFiscalMonth)\n",
        "  df['FiscalYear'] = df.Date.map(fiscalYear)\n",
        "  df['TaxePeriod'] = df.Date.dt.month.map(taxePeriod)\n",
        "\n",
        "  df2 = df[['Date','FiscalYear', 'FiscalMonth', 'TaxePeriod','Day','Desc','SubTotal','TPS','TVQ','Total']]\n",
        "  return df2.set_index(df2.Date).sort_index(),df\n",
        "\n",
        "\n",
        "def totalByMonth(glob, folder):\n",
        "  t = process(glob, folder)[0]\n",
        "  t = t.groupby(pd.Grouper(freq='M'))['Total','TPS','TVQ'].sum() \n",
        "  t['year'] = t.index.year\n",
        "  t['Month'] = t.index.month\n",
        " \n",
        "  t.index =t.index.month.map(currentFiscalMonth)\n",
        "  t.index.names = ['FiscalMonth']\n",
        "  return t"
      ],
      "execution_count": 22,
      "outputs": [
        {
          "output_type": "stream",
          "text": [
            "Drive already mounted at /content/gdrive; to attempt to forcibly remount, call drive.mount(\"/content/gdrive\", force_remount=True).\n"
          ],
          "name": "stdout"
        }
      ]
    },
    {
      "cell_type": "code",
      "metadata": {
        "id": "lEQGHhH-314n"
      },
      "source": [
        "a = process(glob, \"/content/gdrive/My Drive/datazentrik/déboursés/2*/*.*\")[0]\n",
        "a\n",
        "a[a['FiscalMonth']==7]"
      ],
      "execution_count": null,
      "outputs": []
    },
    {
      "cell_type": "code",
      "metadata": {
        "id": "jfCpLZfv4RmQ"
      },
      "source": [
        "a.SubTotal.sort_values()"
      ],
      "execution_count": null,
      "outputs": []
    },
    {
      "cell_type": "code",
      "metadata": {
        "id": "xmvoLagn2THn"
      },
      "source": [
        "a = totalByMonth(glob, \"/content/gdrive/My Drive/datazentrik/déboursés/2*/*.*\")\n",
        "a"
      ],
      "execution_count": null,
      "outputs": []
    },
    {
      "cell_type": "code",
      "metadata": {
        "id": "G4HJAE8MRnza"
      },
      "source": [
        "#|mai, juin,juillet|aoutsept,oct|nov dec,janvier|fev,mars,avri`\n",
        "\n",
        "t = process(glob, \"/content/gdrive/My Drive/datazentrik/déboursés/2*/*.*\")[0]\n",
        "\n",
        "#t = t.groupby(\"TaxePeriod\")['Total','TPS','TVQ'].sum() \n",
        "t"
      ],
      "execution_count": null,
      "outputs": []
    }
  ]
}