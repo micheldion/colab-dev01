{
  "nbformat": 4,
  "nbformat_minor": 0,
  "metadata": {
    "colab": {
      "name": "depenses.ipynb",
      "provenance": [],
      "collapsed_sections": [],
      "authorship_tag": "ABX9TyNqUsJ825cAbG0Vqkh8n/tL",
      "include_colab_link": true
    },
    "kernelspec": {
      "name": "python3",
      "display_name": "Python 3"
    }
  },
  "cells": [
    {
      "cell_type": "markdown",
      "metadata": {
        "id": "view-in-github",
        "colab_type": "text"
      },
      "source": [
        "<a href=\"https://colab.research.google.com/github/micheldion/colab-dev01/blob/main/depenses.ipynb\" target=\"_parent\"><img src=\"https://colab.research.google.com/assets/colab-badge.svg\" alt=\"Open In Colab\"/></a>"
      ]
    },
    {
      "cell_type": "code",
      "metadata": {
        "id": "NWNTyKw7frf3",
        "colab": {
          "base_uri": "https://localhost:8080/"
        },
        "outputId": "9c3dc305-77fe-4ccd-edf4-fc3236915332"
      },
      "source": [
        "from google.colab import drive\n",
        "import pandas as pd \n",
        "import math\n",
        "import glob\n",
        "\n",
        "drive.mount('/content/gdrive')\n",
        "\n",
        "TPS = 0.05\n",
        "TVQ = 0.09975\n",
        "FISCAL_MONTH_INDEX = 4\n",
        "\n",
        "def fiscalMonthClosure(index):\n",
        "   def c(month):\n",
        "      return month -index if month > index else (12-index) + month\n",
        "   return c\n",
        "\n",
        "currentFiscalMonth = fiscalMonthClosure(FISCAL_MONTH_INDEX)\n",
        "\n",
        "def fiscalYear(date):\n",
        "  return str(date.year)+\"-\"+str(date.year+1)  if date.month > 4 else str(date.year  -1)+\"-\"+str(date.year)\n",
        "\n",
        "def round_half_up(n):\n",
        "  multiplier = 10 ** 2\n",
        "  return math.floor(n*multiplier + 0.5) / multiplier\n",
        "\n",
        "def computeTPS (subTotal):\n",
        "  return round_half_up(subTotal * TPS)\n",
        "\n",
        "def computeTVQ (subTotal):\n",
        "  return round_half_up(subTotal * TVQ)  \n",
        "\n",
        "def taxePeriod(month):\n",
        "    if   month in [11,12,1]:\n",
        "      return 1\n",
        "    elif month in [2,3,4]:\n",
        "      return 2\n",
        "    elif month in [5,6,7]:\n",
        "      return 3\n",
        "    elif month in [8,9,10]:\n",
        "      return 4\n",
        "    else:\n",
        "      raise Exception(\"Not in range \"+str(month))\n",
        "\n",
        "\n",
        "def process(glob, folder, isExpense=True):\n",
        "  data_files = glob.glob(folder)\n",
        "  V = [i.split(\"/\")[-1].split(\".pdf\")[0] for i in data_files]\n",
        "  #for i in V:\n",
        "    #print(i)\n",
        "  df = pd.DataFrame(V,columns=['file']) \n",
        "  df[['PaymentDate','InvoiceDate','SubTotal','TPS','TVQ','MODE','Desc']] = df['file'].str.split(\"_\",expand=True,)\n",
        "  df.PaymentDate = pd.to_datetime(df.PaymentDate, errors=\"raise\")\n",
        "  df.InvoiceDate = pd.to_datetime(df.InvoiceDate, errors=\"raise\")\n",
        "  df.SubTotal = pd.to_numeric(df.SubTotal, errors=\"raise\")\n",
        "  df.TPS = pd.to_numeric(df.TPS, errors=\"raise\")\n",
        "  df.TVQ = pd.to_numeric(df.TVQ, errors=\"raise\")\n",
        "  \n",
        "  #df['Day'] =  df['InvoiceDate'].dt.day\n",
        "  #df['Month'] =  df['InvoiceDate'].dt.month\n",
        "  \n",
        "  df['Total'] = df.SubTotal + df.TPS + df.TVQ\n",
        "  df['ComputedTPS'] = df.SubTotal.map(computeTPS)\n",
        "  df['ComputedTVQ'] = df.SubTotal.map(computeTVQ)\n",
        "  df['AssertTPS'] = (df.ComputedTPS == df.TPS) | (df.TPS == 0)\n",
        "  df['AssertTVQ'] = (df.ComputedTVQ == df.TVQ) | (df.TVQ == 0)\n",
        "  df['OK'] = (df.AssertTPS) & (df.AssertTVQ)\n",
        "\n",
        "  FiscalDate = \"PaymentDate\" if isExpense else \"InvoiceDate\"\n",
        "\n",
        "  df[\"FiscalMonth\"] = df[FiscalDate].dt.month.map(currentFiscalMonth)\n",
        "  df['FiscalYear'] =  df[FiscalDate].map(fiscalYear)\n",
        "  df['TaxePeriod'] =  df[FiscalDate].dt.month.map(taxePeriod)\n",
        "\n",
        "\n",
        "  df2 = df[['PaymentDate','InvoiceDate','FiscalYear','FiscalMonth', 'TaxePeriod','MODE', 'Desc','SubTotal','TPS','TVQ','Total','file']]\n",
        "  return df2.set_index(df2.PaymentDate).sort_index(),df\n",
        "\n",
        "\n",
        "def totalByMonth(glob, folder):\n",
        "  t = process(glob, folder)[0]\n",
        "  t = t.groupby(pd.Grouper(freq='M'))['Total','TPS','TVQ'].sum() \n",
        "  t['year'] = t.index.year\n",
        "  t['Month'] = t.index.month\n",
        " \n",
        "  t.index =t.index.month.map(currentFiscalMonth)\n",
        "  t.index.names = ['FiscalMonth']\n",
        "  return t"
      ],
      "execution_count": 158,
      "outputs": [
        {
          "output_type": "stream",
          "text": [
            "Drive already mounted at /content/gdrive; to attempt to forcibly remount, call drive.mount(\"/content/gdrive\", force_remount=True).\n"
          ],
          "name": "stdout"
        }
      ]
    },
    {
      "cell_type": "code",
      "metadata": {
        "id": "lEQGHhH-314n"
      },
      "source": [
        "a = process(glob, \"/content/gdrive/My Drive/datazentrik/déboursés/2*/*.*\")[0]\n",
        "a\n",
        "#a[a['FiscalMonth']==5]"
      ],
      "execution_count": null,
      "outputs": []
    },
    {
      "cell_type": "code",
      "metadata": {
        "id": "xmvoLagn2THn"
      },
      "source": [
        "sommaire  = totalByMonth(glob, \"/content/gdrive/My Drive/datazentrik/déboursés/2*/*.*\")\n",
        "sommaire"
      ],
      "execution_count": null,
      "outputs": []
    },
    {
      "cell_type": "code",
      "metadata": {
        "id": "G4HJAE8MRnza"
      },
      "source": [
        "t = process(glob, \"/content/gdrive/My Drive/datazentrik/recettes/2*/*.*\", False)[0]\n",
        "t"
      ],
      "execution_count": null,
      "outputs": []
    },
    {
      "cell_type": "code",
      "metadata": {
        "id": "aEKS0dYOyeYN"
      },
      "source": [
        "def build_visa_payment_dates(glob, folder):\n",
        "  data_files = glob.glob(folder)\n",
        "  V = [i.split(\"/\")[-1].split(\".pdf\")[0] for i in data_files]\n",
        "  df = pd.DataFrame(V,columns=['File']) \n",
        "  print(V)\n",
        "  df[['PaymentDate','InvoiceDate','BeginDate','Desc']] = df['File'].str.split(\"_\",expand=True,)\n",
        "  df.PaymentDate = pd.to_datetime(df.PaymentDate, errors=\"raise\")\n",
        "  df.InvoiceDate = pd.to_datetime(df.InvoiceDate, errors=\"raise\")\n",
        "  df.BeginDate = pd.to_datetime(df.BeginDate, errors=\"raise\")\n",
        "  visa = df[['PaymentDate','InvoiceDate','BeginDate','File']]\n",
        "  r = pd.date_range(start=visa.BeginDate.min(), end=visa.InvoiceDate.max())\n",
        "  dates = pd.DataFrame(r, columns=['InvoiceDate'])\n",
        "  dates = dates.merge(visa, left_on='InvoiceDate', right_on='InvoiceDate',how='outer').set_index(\"InvoiceDate\").sort_index()\n",
        "  dates['PaymentDate']= dates.PaymentDate.bfill(axis=0)\n",
        "  dates['File']= dates.File.bfill(axis=0)\n",
        "  dates = dates.reset_index()[['InvoiceDate','PaymentDate']]\n",
        "  return dates\n",
        "\n",
        "payment_dates = build_visa_payment_dates(glob, \"/content/gdrive/My Drive/datazentrik/déboursés/visa/*_visa.pdf\")  \n",
        "\n",
        "payment_dates\n"
      ],
      "execution_count": null,
      "outputs": []
    },
    {
      "cell_type": "code",
      "metadata": {
        "id": "Kmvdh6rLMoSW"
      },
      "source": [
        "aa= a.drop(columns=['PaymentDate']).reset_index()\n",
        "test = payment_dates.merge(aa.reset_index(), left_on='InvoiceDate', right_on='InvoiceDate',how='inner')\n",
        "#test.groupby(['DatePaiement2'])[['SubTotal','TPS','TVQ','Total']].sum()\n",
        "#test[test['DatePaiement'] == '2020-11-12']\n",
        "test.set_index(\"PaymentDate_x\").sort_index()\n",
        "test"
      ],
      "execution_count": null,
      "outputs": []
    },
    {
      "cell_type": "code",
      "metadata": {
        "id": "27OZpF43R_rW"
      },
      "source": [
        "a"
      ],
      "execution_count": null,
      "outputs": []
    }
  ]
}